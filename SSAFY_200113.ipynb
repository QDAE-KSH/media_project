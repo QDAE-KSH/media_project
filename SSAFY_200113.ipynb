{
  "nbformat": 4,
  "nbformat_minor": 0,
  "metadata": {
    "colab": {
      "name": "SSAFY_200113.ipynb",
      "provenance": [],
      "collapsed_sections": [],
      "authorship_tag": "ABX9TyOVBeXfv6IDU0AKtBoQQdx2",
      "include_colab_link": true
    },
    "kernelspec": {
      "name": "python3",
      "display_name": "Python 3"
    }
  },
  "cells": [
    {
      "cell_type": "markdown",
      "metadata": {
        "id": "view-in-github",
        "colab_type": "text"
      },
      "source": [
        "<a href=\"https://colab.research.google.com/github/QDAE-KSH/media_project/blob/master/SSAFY_200113.ipynb\" target=\"_parent\"><img src=\"https://colab.research.google.com/assets/colab-badge.svg\" alt=\"Open In Colab\"/></a>"
      ]
    },
    {
      "cell_type": "markdown",
      "metadata": {
        "id": "NiDxUKzYeDcj",
        "colab_type": "text"
      },
      "source": [
        "#SSAFY 20.01.13\n",
        "\n",
        "#챗봇 SW QUEST! 01"
      ]
    },
    {
      "cell_type": "markdown",
      "metadata": {
        "id": "1a1c0EfieL_D",
        "colab_type": "text"
      },
      "source": [
        "01 - 01 Python 기초\n",
        "\n",
        "* (book) 모두의 파이썬\n",
        "* (book) o'reilly  에서 다운로드 "
      ]
    },
    {
      "cell_type": "markdown",
      "metadata": {
        "id": "kpUlzeAsesIq",
        "colab_type": "text"
      },
      "source": [
        "- python은 인터프리터 언어\n",
        "- 다양한 라이브러리를 제공"
      ]
    },
    {
      "cell_type": "markdown",
      "metadata": {
        "id": "QGRhtRwAe9o7",
        "colab_type": "text"
      },
      "source": [
        "출력 (Print)"
      ]
    },
    {
      "cell_type": "code",
      "metadata": {
        "id": "O2c_rApZee7I",
        "colab_type": "code",
        "colab": {
          "base_uri": "https://localhost:8080/",
          "height": 35
        },
        "outputId": "0cf05e0b-7f3c-410f-e15c-fcaa18f58a9a"
      },
      "source": [
        "print(\"Hello\")"
      ],
      "execution_count": 1,
      "outputs": [
        {
          "output_type": "stream",
          "text": [
            "Hello\n"
          ],
          "name": "stdout"
        }
      ]
    },
    {
      "cell_type": "code",
      "metadata": {
        "id": "ACjGMDr2eilY",
        "colab_type": "code",
        "colab": {
          "base_uri": "https://localhost:8080/",
          "height": 35
        },
        "outputId": "7afdff91-63fa-416e-b5a7-c3cd7bdd0af6"
      },
      "source": [
        "print(1)"
      ],
      "execution_count": 2,
      "outputs": [
        {
          "output_type": "stream",
          "text": [
            "1\n"
          ],
          "name": "stdout"
        }
      ]
    },
    {
      "cell_type": "code",
      "metadata": {
        "id": "3BzE66K9e4Qq",
        "colab_type": "code",
        "colab": {
          "base_uri": "https://localhost:8080/",
          "height": 35
        },
        "outputId": "3c2346e5-df48-4ff0-e658-52f8b8fc96e4"
      },
      "source": [
        "print([1,2,3])"
      ],
      "execution_count": 3,
      "outputs": [
        {
          "output_type": "stream",
          "text": [
            "[1, 2, 3]\n"
          ],
          "name": "stdout"
        }
      ]
    },
    {
      "cell_type": "code",
      "metadata": {
        "id": "YXUMLtA_e5oc",
        "colab_type": "code",
        "colab": {
          "base_uri": "https://localhost:8080/",
          "height": 35
        },
        "outputId": "ffc57505-a17e-47b1-876e-1df62ff37960"
      },
      "source": [
        "print(\"Hi\", 123)"
      ],
      "execution_count": 4,
      "outputs": [
        {
          "output_type": "stream",
          "text": [
            "Hi 123\n"
          ],
          "name": "stdout"
        }
      ]
    },
    {
      "cell_type": "code",
      "metadata": {
        "id": "IS1rohUte7bU",
        "colab_type": "code",
        "colab": {}
      },
      "source": [
        ""
      ],
      "execution_count": 0,
      "outputs": []
    },
    {
      "cell_type": "markdown",
      "metadata": {
        "id": "lOFC6rpAfDlT",
        "colab_type": "text"
      },
      "source": [
        "세미콜론(;)\n",
        "\n",
        "- 세미콜론을 붙이지 않고 들여쓰기로 구분\n",
        "- 세미콜론은 여러 구문을 한 줄에 사용할 때에만 사용"
      ]
    },
    {
      "cell_type": "markdown",
      "metadata": {
        "id": "eFjHO74HfMex",
        "colab_type": "text"
      },
      "source": [
        "들여쓰기 (Indentation)\n",
        "- {} 대신 들여쓰기로 코드 블록을 정의\n",
        "- if, for 함수 등에서는 반드시\n",
        "- 공백, 탭 등으로 들여쓰기\n",
        "- 가이드라인은 공백 4칸을 권장\n",
        "- 하나의 코드 블록에 서로 다른 개수의 공백이나 탭과 공백을 함께 사용 불가"
      ]
    },
    {
      "cell_type": "code",
      "metadata": {
        "id": "IdYvC31kfKhp",
        "colab_type": "code",
        "colab": {
          "base_uri": "https://localhost:8080/",
          "height": 136
        },
        "outputId": "51a1db82-02da-44ee-f9dd-b8bb6cc2005b"
      },
      "source": [
        "if 5 < 7:\n",
        "print(\"5 is less than 7\")"
      ],
      "execution_count": 5,
      "outputs": [
        {
          "output_type": "error",
          "ename": "IndentationError",
          "evalue": "ignored",
          "traceback": [
            "\u001b[0;36m  File \u001b[0;32m\"<ipython-input-5-e941dade3d3c>\"\u001b[0;36m, line \u001b[0;32m2\u001b[0m\n\u001b[0;31m    print(\"5 is less than 7\")\u001b[0m\n\u001b[0m        ^\u001b[0m\n\u001b[0;31mIndentationError\u001b[0m\u001b[0;31m:\u001b[0m expected an indented block\n"
          ]
        }
      ]
    },
    {
      "cell_type": "code",
      "metadata": {
        "id": "SRjNyfHFfwpg",
        "colab_type": "code",
        "colab": {
          "base_uri": "https://localhost:8080/",
          "height": 35
        },
        "outputId": "f8c431a6-474e-427e-d103-95a0cb39e1da"
      },
      "source": [
        "if 5 < 7:\n",
        "    print(\"5 is less than 7\")"
      ],
      "execution_count": 6,
      "outputs": [
        {
          "output_type": "stream",
          "text": [
            "5 is less than 7\n"
          ],
          "name": "stdout"
        }
      ]
    },
    {
      "cell_type": "markdown",
      "metadata": {
        "id": "xOmWtIQ2f2-D",
        "colab_type": "text"
      },
      "source": [
        "변수 (Variable)\n",
        "- 변수는 값을 담는 공간\n",
        "- 실제로는 메모리 내부에 저장\n",
        "- 메모리 주소가 매핑\n",
        "- 선언과 값 할당이 동시에 이루어짐\n",
        "- '=' 연산자는 할당 연산자"
      ]
    },
    {
      "cell_type": "code",
      "metadata": {
        "id": "z0QiQolgf0T6",
        "colab_type": "code",
        "colab": {
          "base_uri": "https://localhost:8080/",
          "height": 53
        },
        "outputId": "7f6857c6-9462-4f1b-fabe-f7ec9fb22c96"
      },
      "source": [
        "message = \"hellow world!\"\n",
        "print(message)\n",
        "\n",
        "#동일한 변수에 새로운 값을 저장 가능\n",
        "message = \"hello python\"\n",
        "print(message)"
      ],
      "execution_count": 9,
      "outputs": [
        {
          "output_type": "stream",
          "text": [
            "hellow world!\n",
            "hello python\n"
          ],
          "name": "stdout"
        }
      ]
    },
    {
      "cell_type": "code",
      "metadata": {
        "id": "XE0NNvRSgNeU",
        "colab_type": "code",
        "colab": {
          "base_uri": "https://localhost:8080/",
          "height": 35
        },
        "outputId": "2100c734-d885-4ae6-e6f9-c8beae13b19d"
      },
      "source": [
        "# 참조에 타입이 관여하지 않음\n",
        "x = 10\n",
        "x = \"Paul\"\n",
        "print(x)"
      ],
      "execution_count": 8,
      "outputs": [
        {
          "output_type": "stream",
          "text": [
            "Paul\n"
          ],
          "name": "stdout"
        }
      ]
    },
    {
      "cell_type": "markdown",
      "metadata": {
        "id": "OwYSTlcngbbU",
        "colab_type": "text"
      },
      "source": [
        "명명 규칙 (Naming Rule)\n",
        "- 문자, 숫자, '_' 를 사용할 수 있다.\n",
        "- 대소문자 구분\n",
        "- 공백은 사용 불가\n",
        "- 숫자로 시작 불가\n",
        "- 미리 예약된 이름 사용 불가\n",
        "- 변수 이름은 최대한 의미있게 지어야 한다\n",
        "- 줄임말은 최대한 지양\n",
        "- 다른 사람이 읽어도 바로 파악 가능해야 함"
      ]
    },
    {
      "cell_type": "markdown",
      "metadata": {
        "id": "mUiJjNDogzMF",
        "colab_type": "text"
      },
      "source": [
        "데이터 타입 (Data Type)\n",
        "- 숫자형 : int, float, complex\n",
        "- 문자열 : str\n",
        "- boolean : bool\n",
        "- 시퀸스 : list, tuple, set\n",
        "- 맵 : dict"
      ]
    },
    {
      "cell_type": "code",
      "metadata": {
        "id": "aTRMK_uFgSc0",
        "colab_type": "code",
        "colab": {
          "base_uri": "https://localhost:8080/",
          "height": 89
        },
        "outputId": "72d8b28f-5fb4-425c-edec-69eb210ef40f"
      },
      "source": [
        "x = 10\n",
        "print(type(x))\n",
        "x = \"Tom\"\n",
        "print(type(x))\n",
        "x = [1, 2, 3]\n",
        "print(type(x))\n",
        "x = True\n",
        "print(type(x))"
      ],
      "execution_count": 21,
      "outputs": [
        {
          "output_type": "stream",
          "text": [
            "<class 'int'>\n",
            "<class 'str'>\n",
            "<class 'list'>\n",
            "<class 'bool'>\n"
          ],
          "name": "stdout"
        }
      ]
    },
    {
      "cell_type": "code",
      "metadata": {
        "id": "9fBHQ6fQhOWB",
        "colab_type": "code",
        "colab": {}
      },
      "source": [
        "x = 10 #정수\n",
        "y = 5.25 #소수\n",
        "z = 1j #복소수"
      ],
      "execution_count": 0,
      "outputs": []
    },
    {
      "cell_type": "code",
      "metadata": {
        "id": "ePO5u8k1hTby",
        "colab_type": "code",
        "colab": {
          "base_uri": "https://localhost:8080/",
          "height": 53
        },
        "outputId": "a398d5e4-b0f8-4a9d-d564-912236cf797a"
      },
      "source": [
        "#정수형 길이에 제한이 없음\n",
        "x = -8129310\n",
        "y = 1928471298472194712948\n",
        "print(x)\n",
        "print(y)"
      ],
      "execution_count": 14,
      "outputs": [
        {
          "output_type": "stream",
          "text": [
            "-8129310\n",
            "1928471298472194712948\n"
          ],
          "name": "stdout"
        }
      ]
    },
    {
      "cell_type": "code",
      "metadata": {
        "id": "DXHtnjidhVWz",
        "colab_type": "code",
        "colab": {
          "base_uri": "https://localhost:8080/",
          "height": 125
        },
        "outputId": "978993bc-c8bc-4692-84e8-b83167a62eda"
      },
      "source": [
        "# 숫자형 데이터 타입 변환\n",
        "a = float(10)\n",
        "b = int(5.25)\n",
        "c = complex(1)\n",
        "print(type(a))\n",
        "print(type(b))\n",
        "print(type(c))\n",
        "print(a)\n",
        "print(b)\n",
        "print(c)"
      ],
      "execution_count": 15,
      "outputs": [
        {
          "output_type": "stream",
          "text": [
            "<class 'float'>\n",
            "<class 'int'>\n",
            "<class 'complex'>\n",
            "10.0\n",
            "5\n",
            "(1+0j)\n"
          ],
          "name": "stdout"
        }
      ]
    },
    {
      "cell_type": "markdown",
      "metadata": {
        "id": "__TrY5sohzIe",
        "colab_type": "text"
      },
      "source": [
        "연산자\n",
        "- +\n",
        "- -\n",
        "- *\n",
        "- /\n",
        "- % 나머지\n",
        "- // 소수점 버림 나눗셈\n",
        "- ** 제곱"
      ]
    },
    {
      "cell_type": "markdown",
      "metadata": {
        "id": "mUimI5KviIga",
        "colab_type": "text"
      },
      "source": [
        "할당연산자\n",
        "- =\n",
        "- +=\n",
        "- -+\n",
        "- *=\n",
        "- /=\n",
        "- %=\n",
        "- //=\n",
        "- **="
      ]
    },
    {
      "cell_type": "markdown",
      "metadata": {
        "id": "J7vt5yUqiPCy",
        "colab_type": "text"
      },
      "source": [
        "비교 연산자\n",
        "- ==\n",
        "- !=\n",
        "- '>'\n",
        "- '<'\n",
        "- '>='\n",
        "- <="
      ]
    },
    {
      "cell_type": "markdown",
      "metadata": {
        "id": "vNmIvH2kiZni",
        "colab_type": "text"
      },
      "source": [
        "논리 연산자\n",
        "- and\n",
        "- or\n",
        "- not"
      ]
    },
    {
      "cell_type": "markdown",
      "metadata": {
        "id": "riYs6JWWiD97",
        "colab_type": "text"
      },
      "source": [
        "\n",
        "- 연산자는 우선순위가 있음\n",
        "- 연산시 괄호를 사용하는 것이 좋음"
      ]
    },
    {
      "cell_type": "markdown",
      "metadata": {
        "id": "JyX6qwXVijYK",
        "colab_type": "text"
      },
      "source": [
        "Boolean\n",
        "\n",
        "- 참, 거짓을 나타내는 데이터 타입"
      ]
    },
    {
      "cell_type": "code",
      "metadata": {
        "id": "RRhPXOpjiGXE",
        "colab_type": "code",
        "colab": {
          "base_uri": "https://localhost:8080/",
          "height": 89
        },
        "outputId": "e92d82c6-8261-4398-b5fd-d0b00a98fc0e"
      },
      "source": [
        "print(5 >= 3)\n",
        "print(9 > 10)\n",
        "print(10 != 11)\n",
        "print(100 < 99)"
      ],
      "execution_count": 20,
      "outputs": [
        {
          "output_type": "stream",
          "text": [
            "True\n",
            "False\n",
            "True\n",
            "False\n"
          ],
          "name": "stdout"
        }
      ]
    },
    {
      "cell_type": "markdown",
      "metadata": {
        "id": "hojFV1pZjK19",
        "colab_type": "text"
      },
      "source": [
        "문자열\n",
        "- 문자가 나열된  형태의 데이터\n",
        "- 가장 많이 사용 되는 데이터 타입\n",
        "- \" 또는 ' 를 사용\n"
      ]
    },
    {
      "cell_type": "code",
      "metadata": {
        "id": "hukW3ZO8iqqo",
        "colab_type": "code",
        "colab": {
          "base_uri": "https://localhost:8080/",
          "height": 53
        },
        "outputId": "b8d0c0dd-b358-4919-a601-cab058d7a0ca"
      },
      "source": [
        "print(\"String\")\n",
        "print('also string')"
      ],
      "execution_count": 22,
      "outputs": [
        {
          "output_type": "stream",
          "text": [
            "String\n",
            "also string\n"
          ],
          "name": "stdout"
        }
      ]
    },
    {
      "cell_type": "code",
      "metadata": {
        "id": "ra7FGMtGjaQl",
        "colab_type": "code",
        "colab": {
          "base_uri": "https://localhost:8080/",
          "height": 35
        },
        "outputId": "9360eb17-4004-4296-af45-2ce39f3667ac"
      },
      "source": [
        "first_name = \"ada\"\n",
        "last_name = \"lovelace\"\n",
        "full_name = first_name + \" \" + last_name\n",
        "print(full_name)"
      ],
      "execution_count": 23,
      "outputs": [
        {
          "output_type": "stream",
          "text": [
            "ada lovelace\n"
          ],
          "name": "stdout"
        }
      ]
    },
    {
      "cell_type": "code",
      "metadata": {
        "id": "fqzB-Ucajuux",
        "colab_type": "code",
        "colab": {
          "base_uri": "https://localhost:8080/",
          "height": 35
        },
        "outputId": "892177f6-6a86-4ca5-df4c-5b979e4690d9"
      },
      "source": [
        "message = \"hello,\" + full_name + \"!\"\n",
        "print(message)"
      ],
      "execution_count": 24,
      "outputs": [
        {
          "output_type": "stream",
          "text": [
            "hello,ada lovelace!\n"
          ],
          "name": "stdout"
        }
      ]
    },
    {
      "cell_type": "code",
      "metadata": {
        "id": "MmTUGUw9j42o",
        "colab_type": "code",
        "colab": {
          "base_uri": "https://localhost:8080/",
          "height": 35
        },
        "outputId": "c1306596-a991-4189-9bcd-e38e7152e1ff"
      },
      "source": [
        "message = \"hello,\" + full_name.title() + \"!\" #첫글자 대문자\n",
        "print(message)"
      ],
      "execution_count": 25,
      "outputs": [
        {
          "output_type": "stream",
          "text": [
            "hello,Ada Lovelace!\n"
          ],
          "name": "stdout"
        }
      ]
    },
    {
      "cell_type": "code",
      "metadata": {
        "id": "Dle6njwlj7TK",
        "colab_type": "code",
        "colab": {
          "base_uri": "https://localhost:8080/",
          "height": 136
        },
        "outputId": "36adcaa2-725d-4bd2-8492-5b72aaa8df50"
      },
      "source": [
        "age = 23\n",
        "message \"Happy\" + age + \"rd Birthday!\"\n",
        "print(message)"
      ],
      "execution_count": 26,
      "outputs": [
        {
          "output_type": "error",
          "ename": "SyntaxError",
          "evalue": "ignored",
          "traceback": [
            "\u001b[0;36m  File \u001b[0;32m\"<ipython-input-26-0e90eda78e59>\"\u001b[0;36m, line \u001b[0;32m2\u001b[0m\n\u001b[0;31m    message \"Happy\" + age + \"rd Birthday!\"\u001b[0m\n\u001b[0m                  ^\u001b[0m\n\u001b[0;31mSyntaxError\u001b[0m\u001b[0;31m:\u001b[0m invalid syntax\n"
          ]
        }
      ]
    },
    {
      "cell_type": "code",
      "metadata": {
        "id": "PCBaQ7oxkFR8",
        "colab_type": "code",
        "colab": {
          "base_uri": "https://localhost:8080/",
          "height": 35
        },
        "outputId": "ad06e794-69d1-4f01-fffb-62515e936b74"
      },
      "source": [
        "age = 23\n",
        "message = \"Happy \" + str(age) + \"rd Birthday!\" #타입 변환\n",
        "print(message)"
      ],
      "execution_count": 28,
      "outputs": [
        {
          "output_type": "stream",
          "text": [
            "Happy 23rd Birthday!\n"
          ],
          "name": "stdout"
        }
      ]
    },
    {
      "cell_type": "code",
      "metadata": {
        "id": "XNTndl4okLxd",
        "colab_type": "code",
        "colab": {
          "base_uri": "https://localhost:8080/",
          "height": 35
        },
        "outputId": "df949e28-f3cf-4da4-c166-e9ff74a59b33"
      },
      "source": [
        "print(\"Are you %s?\" % 24) #문자열에 숫자 또는 문자열을 대입하기 위해 % 사용"
      ],
      "execution_count": 30,
      "outputs": [
        {
          "output_type": "stream",
          "text": [
            "Are you 24?\n"
          ],
          "name": "stdout"
        }
      ]
    },
    {
      "cell_type": "code",
      "metadata": {
        "id": "CDTAR5x4kZBC",
        "colab_type": "code",
        "colab": {}
      },
      "source": [
        "# 문자열 포맷"
      ],
      "execution_count": 0,
      "outputs": []
    },
    {
      "cell_type": "code",
      "metadata": {
        "id": "mo5tt0Lukglp",
        "colab_type": "code",
        "colab": {}
      },
      "source": [
        "# 문자열 인덱싱\n",
        "# 재할당 불가"
      ],
      "execution_count": 0,
      "outputs": []
    },
    {
      "cell_type": "code",
      "metadata": {
        "id": "9_ZapR8akj2p",
        "colab_type": "code",
        "colab": {}
      },
      "source": [
        "# 문자열 슬라이싱"
      ],
      "execution_count": 0,
      "outputs": []
    },
    {
      "cell_type": "code",
      "metadata": {
        "id": "OZGbVraUklK0",
        "colab_type": "code",
        "colab": {}
      },
      "source": [
        "# 문자열 길이\n",
        "# 문자열 교체"
      ],
      "execution_count": 0,
      "outputs": []
    },
    {
      "cell_type": "code",
      "metadata": {
        "id": "j0liHpkMknqU",
        "colab_type": "code",
        "colab": {}
      },
      "source": [
        "# 문자열 대/소문자 벼환\n",
        "# 문자열 나누기"
      ],
      "execution_count": 0,
      "outputs": []
    },
    {
      "cell_type": "code",
      "metadata": {
        "id": "B4BToEB6kqSM",
        "colab_type": "code",
        "colab": {}
      },
      "source": [
        "# 문자열 공백 없애기\n",
        "# 문자열 체크"
      ],
      "execution_count": 0,
      "outputs": []
    },
    {
      "cell_type": "code",
      "metadata": {
        "id": "8MdMeS-QlJ1S",
        "colab_type": "code",
        "colab": {}
      },
      "source": [
        "# 문자열 내 따옴표 표현\n",
        "# 여러 줄을 표현"
      ],
      "execution_count": 0,
      "outputs": []
    },
    {
      "cell_type": "markdown",
      "metadata": {
        "id": "de5DgttelN1L",
        "colab_type": "text"
      },
      "source": [
        "조건문\n",
        "- 상태에 따라 프로그램의 분기를 결정"
      ]
    },
    {
      "cell_type": "code",
      "metadata": {
        "id": "f6Zm4ashlMLt",
        "colab_type": "code",
        "colab": {
          "base_uri": "https://localhost:8080/",
          "height": 35
        },
        "outputId": "03b0f933-c916-4c97-865a-5f7af46758e8"
      },
      "source": [
        "a = 23\n",
        "b = 32\n",
        "if b > a:\n",
        "    print(\"b is greater than a\")\n",
        "elif a == b:\n",
        "    print(\"a and b are equal\")\n",
        "    pass # 어떤 작업도 실행하지 않음\n",
        "else:\n",
        "    print(\"a is greate than b\")\n"
      ],
      "execution_count": 38,
      "outputs": [
        {
          "output_type": "stream",
          "text": [
            "b is greater than a\n"
          ],
          "name": "stdout"
        }
      ]
    },
    {
      "cell_type": "code",
      "metadata": {
        "id": "o36O2QGBloOT",
        "colab_type": "code",
        "colab": {
          "base_uri": "https://localhost:8080/",
          "height": 35
        },
        "outputId": "cf18eac5-0d6d-4375-87d0-60cd35327125"
      },
      "source": [
        "age = 26\n",
        "price = 0\n",
        "\n",
        "if age < 8:\n",
        "    price = 5000\n",
        "elif age >= 8 and age < 20: # 8 <= age < 20 ???\n",
        "    price = 15000\n",
        "elif age >= 20 and age < 60:\n",
        "    price = 20000\n",
        "else:\n",
        "    price = 0\n",
        "\n",
        "print(price)"
      ],
      "execution_count": 40,
      "outputs": [
        {
          "output_type": "stream",
          "text": [
            "20000\n"
          ],
          "name": "stdout"
        }
      ]
    },
    {
      "cell_type": "markdown",
      "metadata": {
        "id": "pI8FRoljmvrr",
        "colab_type": "text"
      },
      "source": [
        "리스트\n",
        "- 특정한 순서로 연결되어 있는 데이터의 집합\n",
        "- 숫자, 문자열, 리스트 등 다양한 종류의 데이터를 넣을 수 있음\n",
        "- 대괄호 기호를 이용하여 생성 '[ ]'"
      ]
    },
    {
      "cell_type": "code",
      "metadata": {
        "id": "UscFBLFPmNV8",
        "colab_type": "code",
        "colab": {}
      },
      "source": [
        "# 리스트 항목 참조\n",
        "# zero based index\n",
        "# 마이너스 index : 뒤에서부터 인덱싱"
      ],
      "execution_count": 0,
      "outputs": []
    },
    {
      "cell_type": "code",
      "metadata": {
        "id": "oS0G6LUnnDNv",
        "colab_type": "code",
        "colab": {}
      },
      "source": [
        "# 리스트 Slicing : sub list로 만듬\n",
        "# start : end (:step) 형식"
      ],
      "execution_count": 0,
      "outputs": []
    },
    {
      "cell_type": "code",
      "metadata": {
        "id": "c3DZhk_8nJ4A",
        "colab_type": "code",
        "colab": {}
      },
      "source": [
        "# 리스트 slicing을 활용한 looping"
      ],
      "execution_count": 0,
      "outputs": []
    },
    {
      "cell_type": "code",
      "metadata": {
        "id": "mabSjsV_ndDQ",
        "colab_type": "code",
        "colab": {}
      },
      "source": [
        "# 항목 수정\n",
        "# 항목 추가 (.append)\n",
        "# 항목 추가 (.insert)"
      ],
      "execution_count": 0,
      "outputs": []
    },
    {
      "cell_type": "code",
      "metadata": {
        "id": "82xDrtYEnk_Y",
        "colab_type": "code",
        "colab": {}
      },
      "source": [
        "# 항목 제거 (del)\n",
        "# 항목 제거 (.pop)\n",
        "# 항목 제거 (.remove) 앞에서부터 제거됨 ... 중복된 데이터 제거에 활용 가능"
      ],
      "execution_count": 0,
      "outputs": []
    },
    {
      "cell_type": "code",
      "metadata": {
        "id": "seDsoIwNoGYS",
        "colab_type": "code",
        "colab": {}
      },
      "source": [
        "# 리스트 합치기 (+)\n",
        "# 리스트 합치기 (.extend)"
      ],
      "execution_count": 0,
      "outputs": []
    },
    {
      "cell_type": "code",
      "metadata": {
        "id": "mE5e8dc4obbg",
        "colab_type": "code",
        "colab": {
          "base_uri": "https://localhost:8080/",
          "height": 35
        },
        "outputId": "67a66a7a-a88e-425e-94b3-78a11579bdf2"
      },
      "source": [
        "# type이 달라도 합치는 것이 가능\n",
        "list1 = [1,2,3]\n",
        "list2 = ['a','b','c']\n",
        "list3 = list1 + list2\n",
        "print(list3)"
      ],
      "execution_count": 56,
      "outputs": [
        {
          "output_type": "stream",
          "text": [
            "[1, 2, 3, 'a', 'b', 'c']\n"
          ],
          "name": "stdout"
        }
      ]
    },
    {
      "cell_type": "code",
      "metadata": {
        "id": "FGWPt3Snos7a",
        "colab_type": "code",
        "colab": {}
      },
      "source": [
        "# 정렬\n",
        "# .sort\n",
        "# .sorted"
      ],
      "execution_count": 0,
      "outputs": []
    },
    {
      "cell_type": "code",
      "metadata": {
        "id": "xaDEm3fHrkj8",
        "colab_type": "code",
        "colab": {}
      },
      "source": [
        "# 순서\n",
        "# . reverse()\n"
      ],
      "execution_count": 0,
      "outputs": []
    },
    {
      "cell_type": "code",
      "metadata": {
        "id": "MZNvAjssrqO6",
        "colab_type": "code",
        "colab": {}
      },
      "source": [
        "# 길이 계산\n",
        "# len()"
      ],
      "execution_count": 0,
      "outputs": []
    },
    {
      "cell_type": "code",
      "metadata": {
        "id": "dCk7M0NXrteK",
        "colab_type": "code",
        "colab": {}
      },
      "source": [
        "# 갯수 새기\n",
        "# .count()"
      ],
      "execution_count": 0,
      "outputs": []
    },
    {
      "cell_type": "markdown",
      "metadata": {
        "id": "FTetZUlZr1zD",
        "colab_type": "text"
      },
      "source": [
        "반복문"
      ]
    },
    {
      "cell_type": "code",
      "metadata": {
        "id": "O1q_i4VKr33c",
        "colab_type": "code",
        "colab": {}
      },
      "source": [
        "# while"
      ],
      "execution_count": 0,
      "outputs": []
    },
    {
      "cell_type": "code",
      "metadata": {
        "id": "FzqVqCU3r6Iq",
        "colab_type": "code",
        "colab": {}
      },
      "source": [
        "# for"
      ],
      "execution_count": 0,
      "outputs": []
    },
    {
      "cell_type": "code",
      "metadata": {
        "id": "ywbLBGzar6yZ",
        "colab_type": "code",
        "colab": {}
      },
      "source": [
        "# with list"
      ],
      "execution_count": 0,
      "outputs": []
    },
    {
      "cell_type": "code",
      "metadata": {
        "id": "c3XTORsnr9ch",
        "colab_type": "code",
        "colab": {}
      },
      "source": [
        "# range"
      ],
      "execution_count": 0,
      "outputs": []
    },
    {
      "cell_type": "code",
      "metadata": {
        "id": "y6EHjPkzsAER",
        "colab_type": "code",
        "colab": {}
      },
      "source": [
        "# range 와 append 활용"
      ],
      "execution_count": 0,
      "outputs": []
    },
    {
      "cell_type": "code",
      "metadata": {
        "id": "WtagXfoPsFZ9",
        "colab_type": "code",
        "colab": {}
      },
      "source": [
        ""
      ],
      "execution_count": 0,
      "outputs": []
    },
    {
      "cell_type": "markdown",
      "metadata": {
        "id": "6Cu6acsosIGs",
        "colab_type": "text"
      },
      "source": [
        "통계\n"
      ]
    },
    {
      "cell_type": "code",
      "metadata": {
        "id": "78-7oyOgsIsg",
        "colab_type": "code",
        "colab": {}
      },
      "source": [
        "# min\n",
        "# max\n",
        "# sum"
      ],
      "execution_count": 0,
      "outputs": []
    },
    {
      "cell_type": "code",
      "metadata": {
        "id": "BynmCn1rsLfh",
        "colab_type": "code",
        "colab": {}
      },
      "source": [
        ""
      ],
      "execution_count": 0,
      "outputs": []
    },
    {
      "cell_type": "markdown",
      "metadata": {
        "id": "RDeltvlmsPw7",
        "colab_type": "text"
      },
      "source": [
        "리스트 복사\n",
        "- 확인 필요"
      ]
    },
    {
      "cell_type": "code",
      "metadata": {
        "id": "35srkshPsRcU",
        "colab_type": "code",
        "colab": {}
      },
      "source": [
        ""
      ],
      "execution_count": 0,
      "outputs": []
    },
    {
      "cell_type": "markdown",
      "metadata": {
        "id": "41ge8oQosVsE",
        "colab_type": "text"
      },
      "source": [
        "튜플\n",
        "- 순서가 있음\n",
        "- '()' 기호를 사용하거나 생략\n",
        "- 재할당 불가"
      ]
    },
    {
      "cell_type": "code",
      "metadata": {
        "id": "ZTnMRiDWsZlo",
        "colab_type": "code",
        "colab": {}
      },
      "source": [
        "# 패킹 언패킹 활용 "
      ],
      "execution_count": 0,
      "outputs": []
    },
    {
      "cell_type": "markdown",
      "metadata": {
        "id": "2EBS3uffskU2",
        "colab_type": "text"
      },
      "source": [
        "딕셔너리\n",
        "- key / value  형태의 자료구조\n",
        "- key 값으로 value를 조회 가능\n",
        "- list와 혼합된 형태로 사용 가능\n",
        "- '{}' 기호를 사용하여 생성"
      ]
    },
    {
      "cell_type": "code",
      "metadata": {
        "id": "cwVpp_j6swW0",
        "colab_type": "code",
        "colab": {}
      },
      "source": [
        "# 항목 추가"
      ],
      "execution_count": 0,
      "outputs": []
    },
    {
      "cell_type": "code",
      "metadata": {
        "id": "UQdb1Y4Bs2as",
        "colab_type": "code",
        "colab": {}
      },
      "source": [
        "# 항목 변경"
      ],
      "execution_count": 0,
      "outputs": []
    },
    {
      "cell_type": "code",
      "metadata": {
        "id": "wSNDvX-EtAJE",
        "colab_type": "code",
        "colab": {}
      },
      "source": [
        "# 항목 제거"
      ],
      "execution_count": 0,
      "outputs": []
    },
    {
      "cell_type": "code",
      "metadata": {
        "id": "Bi3mF0WxtAvD",
        "colab_type": "code",
        "colab": {}
      },
      "source": [
        "# 접근"
      ],
      "execution_count": 0,
      "outputs": []
    },
    {
      "cell_type": "code",
      "metadata": {
        "id": "wpNVUM69tjsc",
        "colab_type": "code",
        "colab": {
          "base_uri": "https://localhost:8080/",
          "height": 107
        },
        "outputId": "4af9e819-3e23-4db7-9d96-37cd317fe77e"
      },
      "source": [
        "content_ratings = {'4+':4433, '9+':987, '12+':1155, '17+':622}\n",
        "print(content_ratings)\n",
        "\n",
        "over_9 = content_ratings['9+']\n",
        "over_17 = content_ratings['17+']\n",
        "print(over_9)\n",
        "print(over_17)\n",
        "\n",
        "content_ratings = {}\n",
        "print(content_ratings)\n",
        "content_ratings['4+'] = 4433\n",
        "print(content_ratings['4+'])"
      ],
      "execution_count": 72,
      "outputs": [
        {
          "output_type": "stream",
          "text": [
            "{'4+': 4433, '9+': 987, '12+': 1155, '17+': 622}\n",
            "987\n",
            "622\n",
            "{}\n",
            "4433\n"
          ],
          "name": "stdout"
        }
      ]
    },
    {
      "cell_type": "code",
      "metadata": {
        "id": "TL35o6BvuSkf",
        "colab_type": "code",
        "colab": {}
      },
      "source": [
        "# 타입 테스트1"
      ],
      "execution_count": 0,
      "outputs": []
    },
    {
      "cell_type": "code",
      "metadata": {
        "id": "z7IKMrehvB14",
        "colab_type": "code",
        "colab": {
          "base_uri": "https://localhost:8080/",
          "height": 35
        },
        "outputId": "59630023-6a3e-4085-86af-956df790493e"
      },
      "source": [
        "# 타입 테스트2\n",
        "d = {\n",
        "    4 :'four',\n",
        "    1.5 : 'one pint five',\n",
        "    'string_key' : 'string_value',\n",
        "    True: 'True',\n",
        "    #{10:'ten'} : 'dict', # dict key (X) \n",
        "    #[1, 2, 3] : 'list' # list key (X)\n",
        "}\n",
        "print(d)"
      ],
      "execution_count": 81,
      "outputs": [
        {
          "output_type": "stream",
          "text": [
            "{4: 'four', 1.5: 'one pint five', 'string_key': 'string_value', True: 'True'}\n"
          ],
          "name": "stdout"
        }
      ]
    },
    {
      "cell_type": "code",
      "metadata": {
        "id": "ofqHhobHvC3g",
        "colab_type": "code",
        "colab": {}
      },
      "source": [
        ""
      ],
      "execution_count": 0,
      "outputs": []
    },
    {
      "cell_type": "markdown",
      "metadata": {
        "id": "mCm1Mm7rv3qN",
        "colab_type": "text"
      },
      "source": [
        "딕셔너리 looping  활용"
      ]
    },
    {
      "cell_type": "code",
      "metadata": {
        "id": "5KY-Dl9Ov5O4",
        "colab_type": "code",
        "colab": {
          "base_uri": "https://localhost:8080/",
          "height": 305
        },
        "outputId": "cb9aca71-6d72-4a2a-dda5-a39f196b8f03"
      },
      "source": [
        "for x, y in d.items():\n",
        "    print(x,y)\n",
        "\n",
        "for x in d:\n",
        "    print(x)\n",
        "\n",
        "for x in d:\n",
        "    print(d[x])\n",
        "\n",
        "for x in d.values():\n",
        "    print(x)"
      ],
      "execution_count": 88,
      "outputs": [
        {
          "output_type": "stream",
          "text": [
            "4 four\n",
            "1.5 one pint five\n",
            "string_key string_value\n",
            "True True\n",
            "4\n",
            "1.5\n",
            "string_key\n",
            "True\n",
            "four\n",
            "one pint five\n",
            "string_value\n",
            "True\n",
            "four\n",
            "one pint five\n",
            "string_value\n",
            "True\n"
          ],
          "name": "stdout"
        }
      ]
    },
    {
      "cell_type": "code",
      "metadata": {
        "id": "2J_xSxS6v_jA",
        "colab_type": "code",
        "colab": {}
      },
      "source": [
        "# key가 있는지 체크"
      ],
      "execution_count": 0,
      "outputs": []
    },
    {
      "cell_type": "code",
      "metadata": {
        "id": "YLHrHJ5gwqHS",
        "colab_type": "code",
        "colab": {}
      },
      "source": [
        "# 길이"
      ],
      "execution_count": 0,
      "outputs": []
    },
    {
      "cell_type": "code",
      "metadata": {
        "id": "h_cNF7rBwrRa",
        "colab_type": "code",
        "colab": {}
      },
      "source": [
        "# 다중 딕셔너리\n",
        "# JSON이 이 형태를 사용"
      ],
      "execution_count": 0,
      "outputs": []
    },
    {
      "cell_type": "code",
      "metadata": {
        "id": "qqV04Pgywvq7",
        "colab_type": "code",
        "colab": {
          "base_uri": "https://localhost:8080/",
          "height": 53
        },
        "outputId": "2d93fe6c-df5d-42ab-ca8a-a08eb4babdf0"
      },
      "source": [
        "# 연습문제 1\n",
        "apps_of_ages = {'4+':4433, '9+':987, '12+':1155, '17+':622}\n",
        "totla_apps = 7197\n",
        "ratios = {}\n",
        "percentages = {}\n",
        "\n",
        "for x in apps_of_ages:\n",
        "    ratios[x] = apps_of_ages[x] / totla_apps\n",
        "    percentages[x] = ratios[x] * 100\n",
        "\n",
        "print(ratios)\n",
        "print(percentages)"
      ],
      "execution_count": 96,
      "outputs": [
        {
          "output_type": "stream",
          "text": [
            "{'4+': 0.6159510907322495, '9+': 0.13714047519799916, '12+': 0.16048353480616923, '17+': 0.08642489926358204}\n",
            "{'4+': 61.595109073224954, '9+': 13.714047519799916, '12+': 16.04835348061692, '17+': 8.642489926358204}\n"
          ],
          "name": "stdout"
        }
      ]
    },
    {
      "cell_type": "code",
      "metadata": {
        "id": "VCBqfd2rw5Mo",
        "colab_type": "code",
        "colab": {}
      },
      "source": [
        "# 연습문제 2"
      ],
      "execution_count": 0,
      "outputs": []
    },
    {
      "cell_type": "code",
      "metadata": {
        "id": "-RO3MUMKyUmI",
        "colab_type": "code",
        "colab": {}
      },
      "source": [
        ""
      ],
      "execution_count": 0,
      "outputs": []
    },
    {
      "cell_type": "markdown",
      "metadata": {
        "id": "3lI1DSjiyV_6",
        "colab_type": "text"
      },
      "source": [
        "함수\n",
        "- 이름이 붙여진 코드의 블록\n",
        "- 특정한 태스크를 반복 수행 가능\n",
        "- 입력과 출력이 존재 (입력 : 파라미터 , 출력 : 리턴값)\n",
        "- 다른 코드에서 사용 될 수 있음 - 함수호출"
      ]
    },
    {
      "cell_type": "code",
      "metadata": {
        "id": "y9DRrDybyeoY",
        "colab_type": "code",
        "colab": {
          "base_uri": "https://localhost:8080/",
          "height": 35
        },
        "outputId": "c470d6d5-04ce-4196-954f-356598bb4446"
      },
      "source": [
        "def greet_user(username):\n",
        "    print(\"Hello \" + username.title() + \"!\")\n",
        "\n",
        "greet_user(\"kim\")"
      ],
      "execution_count": 100,
      "outputs": [
        {
          "output_type": "stream",
          "text": [
            "Hello Kim!\n"
          ],
          "name": "stdout"
        }
      ]
    },
    {
      "cell_type": "code",
      "metadata": {
        "id": "GPLcGeMfykiw",
        "colab_type": "code",
        "colab": {
          "base_uri": "https://localhost:8080/",
          "height": 125
        },
        "outputId": "56e7a510-c42e-4a22-d44d-a67f1684a2ab"
      },
      "source": [
        "def describe_pet(animal_type, pet_name):\n",
        "    print(\"\\nI have a \" + animal_type + \".\")\n",
        "    print(\"My\" + animal_type+ \"'s name is \" + pet_name.title() + \".\")\n",
        "\n",
        "describe_pet('dog', 'willie1')\n",
        "describe_pet('dog', 'willie2')"
      ],
      "execution_count": 103,
      "outputs": [
        {
          "output_type": "stream",
          "text": [
            "\n",
            "I have a dog.\n",
            "Mydog's name is Willie1.\n",
            "\n",
            "I have a dog.\n",
            "Mydog's name is Willie2.\n"
          ],
          "name": "stdout"
        }
      ]
    },
    {
      "cell_type": "code",
      "metadata": {
        "id": "-pIUeG3OzKUl",
        "colab_type": "code",
        "colab": {}
      },
      "source": [
        "# 키워드를 이용하여 파라미터를 전달하는 방식도 있음"
      ],
      "execution_count": 0,
      "outputs": []
    },
    {
      "cell_type": "code",
      "metadata": {
        "id": "1e889FaszoWP",
        "colab_type": "code",
        "colab": {
          "base_uri": "https://localhost:8080/",
          "height": 71
        },
        "outputId": "0009850a-bfcb-4cce-d21d-2e37386b4c56"
      },
      "source": [
        "# 인자의 디폴트 값\n",
        "def describe_pet(pet_name ,animal_type = 'dog'):\n",
        "    print(\"\\nI have a \" + animal_type + \".\")\n",
        "    print(\"My\" + animal_type+ \"'s name is \" + pet_name.title() + \".\")\n",
        "\n",
        "describe_pet('wille')"
      ],
      "execution_count": 106,
      "outputs": [
        {
          "output_type": "stream",
          "text": [
            "\n",
            "I have a dog.\n",
            "Mydog's name is Wille.\n"
          ],
          "name": "stdout"
        }
      ]
    },
    {
      "cell_type": "code",
      "metadata": {
        "id": "9OYkEmHbzrWa",
        "colab_type": "code",
        "colab": {}
      },
      "source": [
        "# optional (if)"
      ],
      "execution_count": 0,
      "outputs": []
    },
    {
      "cell_type": "code",
      "metadata": {
        "id": "gZ0eV1b_0G63",
        "colab_type": "code",
        "colab": {}
      },
      "source": [
        "# 함수의 리턴값 사용"
      ],
      "execution_count": 0,
      "outputs": []
    },
    {
      "cell_type": "code",
      "metadata": {
        "id": "UmP1WWq90VBQ",
        "colab_type": "code",
        "colab": {}
      },
      "source": [
        "# 딕셔너리의 리턴"
      ],
      "execution_count": 0,
      "outputs": []
    },
    {
      "cell_type": "code",
      "metadata": {
        "id": "978TpZmV0puw",
        "colab_type": "code",
        "colab": {}
      },
      "source": [
        "# 리스트를 인자로 넘기기"
      ],
      "execution_count": 0,
      "outputs": []
    },
    {
      "cell_type": "code",
      "metadata": {
        "id": "AiriB6d90uW3",
        "colab_type": "code",
        "colab": {
          "base_uri": "https://localhost:8080/",
          "height": 53
        },
        "outputId": "01867c37-f19f-4ce0-f065-945dfab36a6d"
      },
      "source": [
        "# 가변인자\n",
        "def make_pizza(*toppings):\n",
        "    print(toppings)\n",
        "\n",
        "make_pizza('pepperoni')\n",
        "make_pizza('mushrooms', 'green peppers', 'extra cheese')"
      ],
      "execution_count": 111,
      "outputs": [
        {
          "output_type": "stream",
          "text": [
            "('pepperoni',)\n",
            "('mushrooms', 'green peppers', 'extra cheese')\n"
          ],
          "name": "stdout"
        }
      ]
    },
    {
      "cell_type": "code",
      "metadata": {
        "id": "jpidEkAr08uG",
        "colab_type": "code",
        "colab": {
          "base_uri": "https://localhost:8080/",
          "height": 35
        },
        "outputId": "376974a2-06a7-4173-900b-10f1c23794d9"
      },
      "source": [
        "# 키워드 가변 인자\n",
        "def build_profile(first, last, **user_info):\n",
        "    profile = {}\n",
        "    profile['first_name'] = first_name\n",
        "    profile['last_name'] = last_name\n",
        "    for key, value in user_info.items():\n",
        "        profile[key] = value\n",
        "    return profile\n",
        "\n",
        "user_profile = build_profile('albert', 'einstein', location = 'princeton', filed = 'physics')\n",
        "print(user_profile)"
      ],
      "execution_count": 114,
      "outputs": [
        {
          "output_type": "stream",
          "text": [
            "{'first_name': 'ada', 'last_name': 'lovelace', 'location': 'princeton', 'filed': 'physics'}\n"
          ],
          "name": "stdout"
        }
      ]
    },
    {
      "cell_type": "code",
      "metadata": {
        "id": "RUEvSH9a1E_p",
        "colab_type": "code",
        "colab": {
          "base_uri": "https://localhost:8080/",
          "height": 35
        },
        "outputId": "94bd972d-9220-456b-8ba3-1875180ecce4"
      },
      "source": [
        "# 연습문제 2\n",
        "def avg(*socres):\n",
        "    sum = 0\n",
        "    for score in socres:\n",
        "        sum += score\n",
        "    \n",
        "    return sum/ len(socres)\n",
        "\n",
        "avg(90, 70, 80, 75)"
      ],
      "execution_count": 122,
      "outputs": [
        {
          "output_type": "execute_result",
          "data": {
            "text/plain": [
              "78.75"
            ]
          },
          "metadata": {
            "tags": []
          },
          "execution_count": 122
        }
      ]
    },
    {
      "cell_type": "code",
      "metadata": {
        "id": "qS1uEZpu1x-M",
        "colab_type": "code",
        "colab": {}
      },
      "source": [
        ""
      ],
      "execution_count": 0,
      "outputs": []
    },
    {
      "cell_type": "markdown",
      "metadata": {
        "id": "nYQhq3Pt4C8q",
        "colab_type": "text"
      },
      "source": [
        "01 - 02 데이터 크롤링 시작하기"
      ]
    },
    {
      "cell_type": "code",
      "metadata": {
        "id": "PEovd_H-4Gh_",
        "colab_type": "code",
        "colab": {}
      },
      "source": [
        ""
      ],
      "execution_count": 0,
      "outputs": []
    }
  ]
}